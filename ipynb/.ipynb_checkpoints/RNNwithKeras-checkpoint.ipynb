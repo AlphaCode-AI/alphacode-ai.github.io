{
 "cells": [
  {
   "cell_type": "code",
   "execution_count": 1,
   "metadata": {},
   "outputs": [
    {
     "name": "stdout",
     "output_type": "stream",
     "text": [
      "Downloading data from https://storage.googleapis.com/tensorflow/tf-keras-datasets/imdb.npz\n",
      "17465344/17464789 [==============================] - 1s 0us/step\n"
     ]
    },
    {
     "name": "stderr",
     "output_type": "stream",
     "text": [
      "<__array_function__ internals>:5: VisibleDeprecationWarning: Creating an ndarray from ragged nested sequences (which is a list-or-tuple of lists-or-tuples-or ndarrays with different lengths or shapes) is deprecated. If you meant to do this, you must specify 'dtype=object' when creating the ndarray\n",
      "/Users/mzc01-yunsu/opt/anaconda3/lib/python3.8/site-packages/tensorflow/python/keras/datasets/imdb.py:155: VisibleDeprecationWarning: Creating an ndarray from ragged nested sequences (which is a list-or-tuple of lists-or-tuples-or ndarrays with different lengths or shapes) is deprecated. If you meant to do this, you must specify 'dtype=object' when creating the ndarray\n",
      "  x_train, y_train = np.array(xs[:idx]), np.array(labels[:idx])\n",
      "/Users/mzc01-yunsu/opt/anaconda3/lib/python3.8/site-packages/tensorflow/python/keras/datasets/imdb.py:156: VisibleDeprecationWarning: Creating an ndarray from ragged nested sequences (which is a list-or-tuple of lists-or-tuples-or ndarrays with different lengths or shapes) is deprecated. If you meant to do this, you must specify 'dtype=object' when creating the ndarray\n",
      "  x_test, y_test = np.array(xs[idx:]), np.array(labels[idx:])\n"
     ]
    }
   ],
   "source": [
    "# IMDB 리뷰 데이터셋\n",
    "from tensorflow.keras.datasets import imdb\n",
    "(train_input, train_target), (test_input, test_target) = imdb.load_data(num_words=500)"
   ]
  },
  {
   "cell_type": "code",
   "execution_count": 2,
   "metadata": {},
   "outputs": [
    {
     "name": "stdout",
     "output_type": "stream",
     "text": [
      "(25000,) (25000,)\n"
     ]
    }
   ],
   "source": [
    "print(train_input.shape, test_input.shape)"
   ]
  },
  {
   "cell_type": "code",
   "execution_count": 6,
   "metadata": {},
   "outputs": [
    {
     "name": "stdout",
     "output_type": "stream",
     "text": [
      "218\n",
      "189\n"
     ]
    }
   ],
   "source": [
    "print(len(train_input[0]))\n",
    "print(len(train_input[1]))"
   ]
  },
  {
   "cell_type": "code",
   "execution_count": 7,
   "metadata": {},
   "outputs": [
    {
     "name": "stdout",
     "output_type": "stream",
     "text": [
      "[1, 14, 22, 16, 43, 2, 2, 2, 2, 65, 458, 2, 66, 2, 4, 173, 36, 256, 5, 25, 100, 43, 2, 112, 50, 2, 2, 9, 35, 480, 284, 5, 150, 4, 172, 112, 167, 2, 336, 385, 39, 4, 172, 2, 2, 17, 2, 38, 13, 447, 4, 192, 50, 16, 6, 147, 2, 19, 14, 22, 4, 2, 2, 469, 4, 22, 71, 87, 12, 16, 43, 2, 38, 76, 15, 13, 2, 4, 22, 17, 2, 17, 12, 16, 2, 18, 2, 5, 62, 386, 12, 8, 316, 8, 106, 5, 4, 2, 2, 16, 480, 66, 2, 33, 4, 130, 12, 16, 38, 2, 5, 25, 124, 51, 36, 135, 48, 25, 2, 33, 6, 22, 12, 215, 28, 77, 52, 5, 14, 407, 16, 82, 2, 8, 4, 107, 117, 2, 15, 256, 4, 2, 7, 2, 5, 2, 36, 71, 43, 2, 476, 26, 400, 317, 46, 7, 4, 2, 2, 13, 104, 88, 4, 381, 15, 297, 98, 32, 2, 56, 26, 141, 6, 194, 2, 18, 4, 226, 22, 21, 134, 476, 26, 480, 5, 144, 30, 2, 18, 51, 36, 28, 224, 92, 25, 104, 4, 226, 65, 16, 38, 2, 88, 12, 16, 283, 5, 16, 2, 113, 103, 32, 15, 16, 2, 19, 178, 32]\n"
     ]
    }
   ],
   "source": [
    "print(train_input[0])"
   ]
  },
  {
   "cell_type": "code",
   "execution_count": 8,
   "metadata": {},
   "outputs": [
    {
     "name": "stdout",
     "output_type": "stream",
     "text": [
      "[1 0 0 1 0 0 1 0 1 0 1 0 0 0 0 0 1 1 0 1]\n"
     ]
    }
   ],
   "source": [
    "print(train_target[:20])"
   ]
  },
  {
   "cell_type": "code",
   "execution_count": 9,
   "metadata": {},
   "outputs": [],
   "source": [
    "from sklearn.model_selection import train_test_split\n"
   ]
  },
  {
   "cell_type": "code",
   "execution_count": 10,
   "metadata": {},
   "outputs": [],
   "source": [
    "train_input, val_input, train_target, val_target = train_test_split(train_input, train_target, test_size=0.2, random_state=42)"
   ]
  },
  {
   "cell_type": "code",
   "execution_count": 12,
   "metadata": {},
   "outputs": [
    {
     "name": "stdout",
     "output_type": "stream",
     "text": [
      "239.00925 178.0\n"
     ]
    }
   ],
   "source": [
    "import numpy as np\n",
    "lengths = np.array([len(x) for x in train_input])\n",
    "print(np.mean(lengths), np.median(lengths))"
   ]
  },
  {
   "cell_type": "code",
   "execution_count": 14,
   "metadata": {},
   "outputs": [
    {
     "data": {
      "image/png": "[encoded data removed]",
      "text/plain": [
       "<Figure size 432x288 with 1 Axes>"
      ]
     },
     "metadata": {
      "needs_background": "light"
     },
     "output_type": "display_data"
    }
   ],
   "source": [
    "import matplotlib.pyplot as plt\n",
    "plt.hist(lengths)\n",
    "plt.xlabel('length')\n",
    "plt.ylabel('frequency')\n",
    "plt.show()"
   ]
  },
  {
   "cell_type": "code",
   "execution_count": 15,
   "metadata": {},
   "outputs": [],
   "source": [
    "from tensorflow.keras.preprocessing.sequence import pad_sequences\n",
    "\n",
    "train_seq = pad_sequences(train_input, maxlen=100)"
   ]
  },
  {
   "cell_type": "code",
   "execution_count": 16,
   "metadata": {},
   "outputs": [
    {
     "name": "stdout",
     "output_type": "stream",
     "text": [
      "(20000, 100)\n"
     ]
    }
   ],
   "source": [
    "print(train_seq.shape)\n"
   ]
  },
  {
   "cell_type": "code",
   "execution_count": 19,
   "metadata": {},
   "outputs": [
    {
     "name": "stdout",
     "output_type": "stream",
     "text": [
      "[ 10   4  20   9   2 364 352   5  45   6   2   2  33 269   8   2 142   2\n",
      "   5   2  17  73  17 204   5   2  19  55   2   2  92  66 104  14  20  93\n",
      "  76   2 151  33   4  58  12 188   2 151  12 215  69 224 142  73 237   6\n",
      "   2   7   2   2 188   2 103  14  31  10  10 451   7   2   5   2  80  91\n",
      "   2  30   2  34  14  20 151  50  26 131  49   2  84  46  50  37  80  79\n",
      "   6   2  46   7  14  20  10  10 470 158]\n",
      "[6, 2, 46, 7, 14, 20, 10, 10, 470, 158]\n"
     ]
    }
   ],
   "source": [
    "print(train_seq[0])\n",
    "print(train_input[0][-10:])"
   ]
  },
  {
   "cell_type": "code",
   "execution_count": 20,
   "metadata": {},
   "outputs": [
    {
     "name": "stdout",
     "output_type": "stream",
     "text": [
      "[  0   0   0   0   1   2 195  19  49   2   2 190   4   2 352   2 183  10\n",
      "  10  13  82  79   4   2  36  71 269   8   2  25  19  49   7   4   2   2\n",
      "   2   2   2  10  10  48  25  40   2  11   2   2  40   2   2   5   4   2\n",
      "   2  95  14 238  56 129   2  10  10  21   2  94 364 352   2   2  11 190\n",
      "  24 484   2   7  94 205 405  10  10  87   2  34  49   2   7   2   2   2\n",
      "   2   2 290   2  46  48  64  18   4   2]\n"
     ]
    }
   ],
   "source": [
    "print(train_seq[5])"
   ]
  },
  {
   "cell_type": "code",
   "execution_count": 21,
   "metadata": {},
   "outputs": [],
   "source": [
    "val_seq = pad_sequences(val_input, maxlen=100)"
   ]
  },
  {
   "cell_type": "code",
   "execution_count": 22,
   "metadata": {},
   "outputs": [
    {
     "name": "stdout",
     "output_type": "stream",
     "text": [
      "(20000, 100, 500)\n"
     ]
    }
   ],
   "source": [
    "# 순환신경망 만들기\n",
    "from tensorflow import keras\n",
    "model = keras.Sequential()\n",
    "\n",
    "model.add(keras.layers.SimpleRNN(8, input_shape=(100,500)))\n",
    "model.add(keras.layers.Dense(1, activation='sigmoid'))\n",
    "\n",
    "train_oh = keras.utils.to_categorical(train_seq)\n",
    "print(train_oh.shape)"
   ]
  },
  {
   "cell_type": "code",
   "execution_count": 23,
   "metadata": {},
   "outputs": [
    {
     "name": "stdout",
     "output_type": "stream",
     "text": [
      "[0. 0. 0. 0. 0. 0. 0. 0. 0. 0. 1. 0.]\n",
      "1.0\n"
     ]
    }
   ],
   "source": [
    "print(train_oh[0][0][:12])\n",
    "print(np.sum(train_oh[0][0]))"
   ]
  },
  {
   "cell_type": "code",
   "execution_count": 24,
   "metadata": {},
   "outputs": [
    {
     "name": "stdout",
     "output_type": "stream",
     "text": [
      "Model: \"sequential\"\n",
      "_________________________________________________________________\n",
      "Layer (type)                 Output Shape              Param #   \n",
      "=================================================================\n",
      "simple_rnn (SimpleRNN)       (None, 8)                 4072      \n",
      "_________________________________________________________________\n",
      "dense (Dense)                (None, 1)                 9         \n",
      "=================================================================\n",
      "Total params: 4,081\n",
      "Trainable params: 4,081\n",
      "Non-trainable params: 0\n",
      "_________________________________________________________________\n"
     ]
    }
   ],
   "source": [
    "val_oh = keras.utils.to_categorical(val_seq)\n",
    "\n",
    "model.summary()"
   ]
  },
  {
   "cell_type": "code",
   "execution_count": 25,
   "metadata": {},
   "outputs": [
    {
     "name": "stdout",
     "output_type": "stream",
     "text": [
      "Epoch 1/100\n",
      "313/313 [==============================] - 11s 33ms/step - loss: 0.7031 - accuracy: 0.4968 - val_loss: 0.6988 - val_accuracy: 0.5128\n",
      "Epoch 2/100\n",
      "313/313 [==============================] - 10s 30ms/step - loss: 0.6978 - accuracy: 0.5041 - val_loss: 0.6961 - val_accuracy: 0.5168\n",
      "Epoch 3/100\n",
      "313/313 [==============================] - 10s 31ms/step - loss: 0.6938 - accuracy: 0.5170 - val_loss: 0.6938 - val_accuracy: 0.5222\n",
      "Epoch 4/100\n",
      "313/313 [==============================] - 10s 31ms/step - loss: 0.6909 - accuracy: 0.5290 - val_loss: 0.6921 - val_accuracy: 0.5302\n",
      "Epoch 5/100\n",
      "313/313 [==============================] - 10s 31ms/step - loss: 0.6887 - accuracy: 0.5397 - val_loss: 0.6906 - val_accuracy: 0.5352\n",
      "Epoch 6/100\n",
      "313/313 [==============================] - 10s 32ms/step - loss: 0.6866 - accuracy: 0.5481 - val_loss: 0.6893 - val_accuracy: 0.5394\n",
      "Epoch 7/100\n",
      "313/313 [==============================] - 10s 32ms/step - loss: 0.6846 - accuracy: 0.5566 - val_loss: 0.6883 - val_accuracy: 0.5438\n",
      "Epoch 8/100\n",
      "313/313 [==============================] - 11s 34ms/step - loss: 0.6826 - accuracy: 0.5638 - val_loss: 0.6869 - val_accuracy: 0.5456\n",
      "Epoch 9/100\n",
      "313/313 [==============================] - 14s 46ms/step - loss: 0.6806 - accuracy: 0.5687 - val_loss: 0.6858 - val_accuracy: 0.5500\n",
      "Epoch 10/100\n",
      "313/313 [==============================] - 16s 52ms/step - loss: 0.6786 - accuracy: 0.5750 - val_loss: 0.6846 - val_accuracy: 0.5530\n",
      "Epoch 11/100\n",
      "313/313 [==============================] - 15s 49ms/step - loss: 0.6765 - accuracy: 0.5809 - val_loss: 0.6835 - val_accuracy: 0.5548\n",
      "Epoch 12/100\n",
      "313/313 [==============================] - 13s 41ms/step - loss: 0.6744 - accuracy: 0.5875 - val_loss: 0.6822 - val_accuracy: 0.5608\n",
      "Epoch 13/100\n",
      "313/313 [==============================] - 11s 36ms/step - loss: 0.6721 - accuracy: 0.5914 - val_loss: 0.6810 - val_accuracy: 0.5634\n",
      "Epoch 14/100\n",
      "313/313 [==============================] - 11s 35ms/step - loss: 0.6699 - accuracy: 0.5986 - val_loss: 0.6800 - val_accuracy: 0.5652\n",
      "Epoch 15/100\n",
      "313/313 [==============================] - 12s 37ms/step - loss: 0.6677 - accuracy: 0.6026 - val_loss: 0.6787 - val_accuracy: 0.5714\n",
      "Epoch 16/100\n",
      "313/313 [==============================] - 12s 37ms/step - loss: 0.6653 - accuracy: 0.6072 - val_loss: 0.6772 - val_accuracy: 0.5718\n",
      "Epoch 17/100\n",
      "313/313 [==============================] - 12s 37ms/step - loss: 0.6628 - accuracy: 0.6104 - val_loss: 0.6758 - val_accuracy: 0.5752\n",
      "Epoch 18/100\n",
      "313/313 [==============================] - 11s 37ms/step - loss: 0.6603 - accuracy: 0.6119 - val_loss: 0.6744 - val_accuracy: 0.5752\n",
      "Epoch 19/100\n",
      "313/313 [==============================] - 11s 37ms/step - loss: 0.6577 - accuracy: 0.6157 - val_loss: 0.6729 - val_accuracy: 0.5752\n",
      "Epoch 20/100\n",
      "313/313 [==============================] - 12s 37ms/step - loss: 0.6550 - accuracy: 0.6195 - val_loss: 0.6716 - val_accuracy: 0.5750\n",
      "Epoch 21/100\n",
      "313/313 [==============================] - 13s 40ms/step - loss: 0.6522 - accuracy: 0.6239 - val_loss: 0.6695 - val_accuracy: 0.5776\n",
      "Epoch 22/100\n",
      "313/313 [==============================] - 11s 37ms/step - loss: 0.6492 - accuracy: 0.6283 - val_loss: 0.6674 - val_accuracy: 0.5836\n",
      "Epoch 23/100\n",
      "313/313 [==============================] - 11s 36ms/step - loss: 0.6460 - accuracy: 0.6312 - val_loss: 0.6650 - val_accuracy: 0.5880\n",
      "Epoch 24/100\n",
      "313/313 [==============================] - 11s 35ms/step - loss: 0.6425 - accuracy: 0.6372 - val_loss: 0.6622 - val_accuracy: 0.5918\n",
      "Epoch 25/100\n",
      "313/313 [==============================] - 12s 37ms/step - loss: 0.6386 - accuracy: 0.6412 - val_loss: 0.6583 - val_accuracy: 0.5944\n",
      "Epoch 26/100\n",
      "313/313 [==============================] - 12s 39ms/step - loss: 0.6336 - accuracy: 0.6482 - val_loss: 0.6524 - val_accuracy: 0.6032\n",
      "Epoch 27/100\n",
      "313/313 [==============================] - 13s 40ms/step - loss: 0.6266 - accuracy: 0.6539 - val_loss: 0.6428 - val_accuracy: 0.6178\n",
      "Epoch 28/100\n",
      "313/313 [==============================] - 12s 39ms/step - loss: 0.6067 - accuracy: 0.6718 - val_loss: 0.5905 - val_accuracy: 0.6878\n",
      "Epoch 29/100\n",
      "313/313 [==============================] - 11s 35ms/step - loss: 0.5505 - accuracy: 0.7201 - val_loss: 0.5579 - val_accuracy: 0.7144\n",
      "Epoch 30/100\n",
      "313/313 [==============================] - 10s 33ms/step - loss: 0.5286 - accuracy: 0.7389 - val_loss: 0.5434 - val_accuracy: 0.7260\n",
      "Epoch 31/100\n",
      "313/313 [==============================] - 10s 33ms/step - loss: 0.5136 - accuracy: 0.7517 - val_loss: 0.5303 - val_accuracy: 0.7374\n",
      "Epoch 32/100\n",
      "313/313 [==============================] - 11s 34ms/step - loss: 0.5009 - accuracy: 0.7600 - val_loss: 0.5198 - val_accuracy: 0.7470\n",
      "Epoch 33/100\n",
      "313/313 [==============================] - 11s 35ms/step - loss: 0.4890 - accuracy: 0.7695 - val_loss: 0.5117 - val_accuracy: 0.7504\n",
      "Epoch 34/100\n",
      "313/313 [==============================] - 11s 36ms/step - loss: 0.4791 - accuracy: 0.7763 - val_loss: 0.5031 - val_accuracy: 0.7552\n",
      "Epoch 35/100\n",
      "313/313 [==============================] - 11s 36ms/step - loss: 0.4701 - accuracy: 0.7833 - val_loss: 0.4977 - val_accuracy: 0.7630\n",
      "Epoch 36/100\n",
      "313/313 [==============================] - 11s 35ms/step - loss: 0.4626 - accuracy: 0.7869 - val_loss: 0.4895 - val_accuracy: 0.7636\n",
      "Epoch 37/100\n",
      "313/313 [==============================] - 11s 34ms/step - loss: 0.4560 - accuracy: 0.7900 - val_loss: 0.4847 - val_accuracy: 0.7676\n",
      "Epoch 38/100\n",
      "313/313 [==============================] - 11s 34ms/step - loss: 0.4499 - accuracy: 0.7950 - val_loss: 0.4819 - val_accuracy: 0.7674\n",
      "Epoch 39/100\n",
      "313/313 [==============================] - 12s 37ms/step - loss: 0.4450 - accuracy: 0.7974 - val_loss: 0.4782 - val_accuracy: 0.7722\n",
      "Epoch 40/100\n",
      "313/313 [==============================] - 12s 37ms/step - loss: 0.4400 - accuracy: 0.7997 - val_loss: 0.4752 - val_accuracy: 0.7722\n",
      "Epoch 41/100\n",
      "313/313 [==============================] - 11s 36ms/step - loss: 0.4359 - accuracy: 0.8031 - val_loss: 0.4744 - val_accuracy: 0.7748\n",
      "Epoch 42/100\n",
      "313/313 [==============================] - 11s 34ms/step - loss: 0.4316 - accuracy: 0.8056 - val_loss: 0.4768 - val_accuracy: 0.7782\n",
      "Epoch 43/100\n",
      "313/313 [==============================] - 11s 35ms/step - loss: 0.4284 - accuracy: 0.8066 - val_loss: 0.4692 - val_accuracy: 0.7778\n",
      "Epoch 44/100\n",
      "313/313 [==============================] - 11s 35ms/step - loss: 0.4252 - accuracy: 0.8091 - val_loss: 0.4675 - val_accuracy: 0.7792\n",
      "Epoch 45/100\n",
      "313/313 [==============================] - 11s 35ms/step - loss: 0.4227 - accuracy: 0.8102 - val_loss: 0.4661 - val_accuracy: 0.7798\n",
      "Epoch 46/100\n",
      "313/313 [==============================] - 11s 35ms/step - loss: 0.4196 - accuracy: 0.8122 - val_loss: 0.4642 - val_accuracy: 0.7828\n",
      "Epoch 47/100\n",
      "313/313 [==============================] - 11s 35ms/step - loss: 0.4173 - accuracy: 0.8129 - val_loss: 0.4628 - val_accuracy: 0.7828\n",
      "Epoch 48/100\n",
      "313/313 [==============================] - 11s 35ms/step - loss: 0.4150 - accuracy: 0.8144 - val_loss: 0.4638 - val_accuracy: 0.7834\n",
      "Epoch 49/100\n",
      "313/313 [==============================] - 11s 35ms/step - loss: 0.4129 - accuracy: 0.8163 - val_loss: 0.4637 - val_accuracy: 0.7850\n",
      "Epoch 50/100\n",
      "313/313 [==============================] - 11s 36ms/step - loss: 0.4108 - accuracy: 0.8166 - val_loss: 0.4637 - val_accuracy: 0.7826\n"
     ]
    }
   ],
   "source": [
    "# 순환신경망 훈련\n",
    "rmsprop = keras.optimizers.RMSprop(learning_rate=1e-4)\n",
    "model.compile(optimizer=rmsprop, loss='binary_crossentropy',\n",
    "             metrics=['accuracy'])\n",
    "checkpoint_cb = keras.callbacks.ModelCheckpoint('best-simplernn-model.h5')\n",
    "early_stopping_cb = keras.callbacks.EarlyStopping(patience=3,\n",
    "                                                 restore_best_weights=True)\n",
    "\n",
    "history = model.fit(train_oh, train_target, epochs=100, batch_size=64,\n",
    "                   validation_data=(val_oh, val_target),\n",
    "                   callbacks=[checkpoint_cb, early_stopping_cb])"
   ]
  },
  {
   "cell_type": "code",
   "execution_count": 26,
   "metadata": {},
   "outputs": [
    {
     "data": {
      "image/png": "[encoded data removed]",
      "text/plain": [
       "<Figure size 432x288 with 1 Axes>"
      ]
     },
     "metadata": {
      "needs_background": "light"
     },
     "output_type": "display_data"
    }
   ],
   "source": [
    "plt.plot(history.history['loss'])\n",
    "plt.plot(history.history['val_loss'])\n",
    "plt.xlabel('epoch')\n",
    "plt.ylabel('loss')\n",
    "plt.legend(['train', 'val'])\n",
    "plt.show()"
   ]
  }
 ],
 "metadata": {
  "kernelspec": {
   "display_name": "Python 3",
   "language": "python",
   "name": "python3"
  },
  "language_info": {
   "codemirror_mode": {
    "name": "ipython",
    "version": 3
   },
   "file_extension": ".py",
   "mimetype": "text/x-python",
   "name": "python",
   "nbconvert_exporter": "python",
   "pygments_lexer": "ipython3",
   "version": "3.8.3"
  }
 },
 "nbformat": 4,
 "nbformat_minor": 4
}
